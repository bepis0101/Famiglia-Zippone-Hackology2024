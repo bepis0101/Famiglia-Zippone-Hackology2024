{
 "cells": [
  {
   "cell_type": "code",
   "execution_count": 20,
   "metadata": {},
   "outputs": [],
   "source": [
    "import pandas as pd\n",
    "import numpy as np\n",
    "\n",
    "\n",
    "num_cities = 1000\n",
    "\n",
    "np.random.seed(107)\n",
    "\n",
    "cities = []\n",
    "for i in range(num_cities):\n",
    "    city = {\n",
    "        'Population': np.random.randint(50000, 10000000),\n",
    "        'Area': np.random.randint(50, 1000),\n",
    "        'GDP': np.random.uniform(5, 100),\n",
    "        'High education': np.random.uniform(0, 1),\n",
    "        'Ad budget': np.random.uniform(0, 10000)\n",
    "    }\n",
    "    \n",
    "    \n",
    "    city['Income'] = np.random.normal(1000, 10000)\n",
    "    cities.append(city)\n",
    "\n",
    "\n",
    "df = pd.DataFrame(cities)\n",
    "df.head()\n"
   ]
  },
  {
   "cell_type": "code",
   "execution_count": 22,
   "metadata": {},
   "outputs": [],
   "source": [
    "df.describe()\n"
   ]
  },
  {
   "cell_type": "code",
   "execution_count": 18,
   "metadata": {},
   "outputs": [],
   "source": [
    "from sklearn.model_selection import train_test_split\n",
    "from sklearn.preprocessing import MinMaxScaler\n",
    "\n",
    "X = df[['Population', 'Area', 'GDP', 'High education', 'Ad budget']].values\n",
    "y = df['Income'].values\n",
    "\n",
    "scaler = MinMaxScaler()\n",
    "X_scaled = scaler.fit_transform(X)\n",
    "\n",
    "X_train, X_test, y_train, y_test = train_test_split(X_scaled, y, test_size=0.2, random_state=42)\n"
   ]
  },
  {
   "cell_type": "code",
   "execution_count": 3,
   "metadata": {},
   "outputs": [],
   "source": [
    "import tensorflow as tf\n",
    "from tensorflow.keras.models import Sequential\n",
    "from tensorflow.keras.layers import Dense\n",
    "\n",
    "model = Sequential([\n",
    "    Dense(64, activation='relu', input_shape=(X_train.shape[1],)),  #\n",
    "    Dense(64, activation='relu'),  \n",
    "    Dense(1)  \n",
    "])\n",
    "\n",
    "\n",
    "model.compile(optimizer='adam', loss='mean_squared_error')\n",
    "\n",
    "\n",
    "model.fit(X_train, y_train, epochs=50, batch_size=32, validation_split=0.2)\n"
   ]
  },
  {
   "cell_type": "code",
   "execution_count": 4,
   "metadata": {},
   "outputs": [],
   "source": [
    "loss = model.evaluate(X_test, y_test)\n",
    "print(f\"Test Loss: {loss}\")\n"
   ]
  },
  {
   "cell_type": "code",
   "execution_count": 5,
   "metadata": {},
   "outputs": [],
   "source": [
    "new_city = np.array([[800000, 80, 0.7, 0.9, 50000]])\n",
    "new_city_scaled = scaler.transform(new_city)\n",
    "predicted_income = model.predict(new_city_scaled)\n",
    "print(f\"Predicted Income: {predicted_income[0]}\")\n"
   ]
  }
 ],
 "metadata": {
  "kernelspec": {
   "display_name": "Python 3",
   "language": "python",
   "name": "python3"
  },
  "language_info": {
   "codemirror_mode": {
    "name": "ipython",
    "version": 3
   },
   "file_extension": ".py",
   "mimetype": "text/x-python",
   "name": "python",
   "nbconvert_exporter": "python",
   "pygments_lexer": "ipython3",
   "version": "3.12.6"
  }
 },
 "nbformat": 4,
 "nbformat_minor": 2
}
